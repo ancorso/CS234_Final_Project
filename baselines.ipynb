{
 "cells": [
  {
   "cell_type": "code",
   "execution_count": 176,
   "metadata": {},
   "outputs": [
    {
     "data": {
      "text/plain": [
       "<module 'utils' from '/Users/anthonycorso/Workspace/CS234_Final_Project/utils.py'>"
      ]
     },
     "execution_count": 176,
     "metadata": {},
     "output_type": "execute_result"
    }
   ],
   "source": [
    "import pandas as pd\n",
    "import numpy as np\n",
    "import utils\n",
    "import importlib\n",
    "importlib.reload(utils)"
   ]
  },
  {
   "cell_type": "code",
   "execution_count": 177,
   "metadata": {},
   "outputs": [
    {
     "name": "stdout",
     "output_type": "stream",
     "text": [
      "(5701, 66)\n"
     ]
    }
   ],
   "source": [
    "filename = \"data/warfarin.csv\"\n",
    "data = pd.read_csv(filename)\n",
    "dose_col_name = 'Therapeutic Dose of Warfarin'\n",
    "xcols = data.columns != dose_col_name\n",
    "ycol = ~xcols\n",
    "print(data.values.shape)"
   ]
  },
  {
   "cell_type": "code",
   "execution_count": 178,
   "metadata": {
    "collapsed": false
   },
   "outputs": [
    {
     "name": "stdout",
     "output_type": "stream",
     "text": [
      "(5701, 65)\n[2 2 3 ... 3 2 0]\n"
     ]
    }
   ],
   "source": [
    "state = data.loc[:, xcols]\n",
    "ground_truth = utils.bin_dose(np.squeeze(data.loc[:, ycol].values))\n",
    "print(state.values.shape)\n",
    "print(ground_truth)"
   ]
  },
  {
   "cell_type": "code",
   "execution_count": 179,
   "metadata": {},
   "outputs": [
    {
     "name": "stdout",
     "output_type": "stream",
     "text": [
      "sum of not nans:  5528\naccuracy of fixed dose:  0.611794500723589\n"
     ]
    }
   ],
   "source": [
    "fd_prediction = utils.apply_policy(utils.fixed_dose, state)\n",
    "fd_acc = utils.accuracy(fd_prediction, ground_truth)\n",
    "print(\"accuracy of fixed dose: \", fd_acc)"
   ]
  },
  {
   "cell_type": "code",
   "execution_count": 180,
   "metadata": {},
   "outputs": [
    {
     "name": "stdout",
     "output_type": "stream",
     "text": [
      "sum of not nans:  3306\naccuracy of clinical dosing algorithm:  0.6727162734422263\n"
     ]
    }
   ],
   "source": [
    "cd_prediction = utils.apply_policy(utils.clinical_dosing_alg, state)\n",
    "cd_acc = utils.accuracy(cd_prediction, ground_truth)\n",
    "print('accuracy of clinical dosing algorithm: ', cd_acc)"
   ]
  },
  {
   "cell_type": "code",
   "execution_count": 67,
   "metadata": {},
   "outputs": [
    {
     "data": {
      "text/plain": [
       "nan"
      ]
     },
     "execution_count": 67,
     "metadata": {},
     "output_type": "execute_result"
    }
   ],
   "source": [
    "np.float64('NaN')"
   ]
  },
  {
   "cell_type": "code",
   "execution_count": null,
   "metadata": {},
   "outputs": [],
   "source": []
  }
 ],
 "metadata": {
  "kernelspec": {
   "display_name": "Python 2",
   "language": "python",
   "name": "python2"
  },
  "language_info": {
   "codemirror_mode": {
    "name": "ipython",
    "version": 2
   },
   "file_extension": ".py",
   "mimetype": "text/x-python",
   "name": "python",
   "nbconvert_exporter": "python",
   "pygments_lexer": "ipython2",
   "version": "2.7.6"
  }
 },
 "nbformat": 4,
 "nbformat_minor": 0
}
